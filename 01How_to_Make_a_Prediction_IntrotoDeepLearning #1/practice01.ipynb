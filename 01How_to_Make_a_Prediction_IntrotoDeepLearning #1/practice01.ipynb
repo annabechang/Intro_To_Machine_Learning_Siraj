{
 "cells": [
  {
   "cell_type": "code",
   "execution_count": 54,
   "metadata": {},
   "outputs": [
    {
     "data": {
      "image/png": "[encoded data removed]",
      "text/plain": [
       "<matplotlib.figure.Figure at 0x10a84b9d0>"
      ]
     },
     "metadata": {},
     "output_type": "display_data"
    }
   ],
   "source": [
    "import pandas as pd\n",
    "from sklearn import linear_model\n",
    "from  matplotlib import pyplot \n",
    "import numpy as np\n",
    "\n",
    "#read data\n",
    "x = np.random.rand(25,2)\n",
    "x[:,1] = 2*x[:,0]+np.random.rand(25)\n",
    "dataframe = pd.DataFrame(x,columns=['Brain','Body'])\n",
    "\n",
    "\n",
    "x_values=dataframe['Brain'].values[:,np.newaxis]\n",
    "y_values=dataframe['Body'].values[:,np.newaxis]\n",
    "\n",
    "body_reg = linear_model.LinearRegression()\n",
    "body_reg.fit(x_values, y_values)\n",
    "prediction=body_reg.predict(np.sort(x_values, axis=0))\n",
    "\n",
    "pyplot.scatter(x_values, y_values)\n",
    "pyplot.plot(np.sort(x_values, axis=0),prediction)\n",
    "pyplot.show()"
   ]
  },
  {
   "cell_type": "code",
   "execution_count": 55,
   "metadata": {},
   "outputs": [
    {
     "name": "stdout",
     "output_type": "stream",
     "text": [
      "('Coefficients: ', array([[ 2.41631249]]))\n",
      "Variance score: 0.87\n",
      "('Intercept:', array([ 0.3347183]))\n"
     ]
    }
   ],
   "source": [
    "# The coefficients\n",
    "print('Coefficients: ', body_reg.coef_)\n",
    "\n",
    "# Explained variance score: 1 is perfect prediction\n",
    "print('Variance score: %.2f' % body_reg.score(x_values, y_values))\n",
    "\n",
    "\n",
    "print('Intercept:', body_reg.intercept_)"
   ]
  }
 ],
 "metadata": {
  "kernelspec": {
   "display_name": "Python 2",
   "language": "python",
   "name": "python2"
  },
  "language_info": {
   "codemirror_mode": {
    "name": "ipython",
    "version": 2
   },
   "file_extension": ".py",
   "mimetype": "text/x-python",
   "name": "python",
   "nbconvert_exporter": "python",
   "pygments_lexer": "ipython2",
   "version": "2.7.14"
  }
 },
 "nbformat": 4,
 "nbformat_minor": 2
}
